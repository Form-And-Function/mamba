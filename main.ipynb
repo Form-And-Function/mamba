{
 "cells": [
  {
   "cell_type": "code",
   "execution_count": 2,
   "metadata": {},
   "outputs": [],
   "source": [
    "import torch\n",
    "import einops\n",
    "\n",
    "from torch import nn\n",
    "from torch.nn import functional as F"
   ]
  },
  {
   "cell_type": "code",
   "execution_count": 126,
   "metadata": {},
   "outputs": [],
   "source": [
    "# E = embed_dim\n",
    "# N = latent_dim\n",
    "\n",
    "class S6Block(nn.Module):\n",
    "    def __init__(self, embed_dim, latent_dim, d, dropout = 0.):\n",
    "        super().__init__()\n",
    "        self.embed_dim = embed_dim\n",
    "        self.latent_dim = latent_dim\n",
    "\n",
    "        self.A_log = nn.Parameter(torch.randn(embed_dim, latent_dim))\n",
    "        self.BW = nn.Parameter(torch.randn(embed_dim, latent_dim))\n",
    "        self.CW = nn.Parameter(torch.randn(embed_dim, latent_dim))\n",
    "\n",
    "        self.DeltaW1 = nn.Parameter(torch.randn(embed_dim, d))\n",
    "        self.DeltaW2 = nn.Parameter(torch.randn(embed_dim, d))\n",
    "\n",
    "        self.DeltaBias = nn.Parameter(torch.randn(embed_dim))\n",
    "\n",
    "        self.WD = nn.Parameter(torch.ones(embed_dim))\n",
    "\n",
    "        self.dropout = nn.Dropout(dropout)\n",
    "\n",
    "    def forward(self, x):\n",
    "        # x: (batch, seq_len, embed_dim)\n",
    "\n",
    "        batch_size = x.size(0)\n",
    "        seq_len = x.size(1)\n",
    "\n",
    "        DeltaW = einops.einsum(self.DeltaW1, self.DeltaW2, 'embed_dim1 d, embed_dim2 d -> embed_dim1 embed_dim2')\n",
    "        A = -torch.exp(self.A_log) # (embed_dim, latent_dim)\n",
    "\n",
    "        B = einops.einsum(x, self.BW, 'batch seq embed_dim, embed_dim latent_dim -> batch seq latent_dim')\n",
    "        C = einops.einsum(x, self.CW, 'batch seq embed_dim, embed_dim latent_dim -> batch seq latent_dim')\n",
    "\n",
    "        xDeltaW = einops.einsum(x, DeltaW, 'batch seq embed_dim1, embed_dim2 embed_dim1 -> batch seq embed_dim2')\n",
    "        Delta = F.softplus(xDeltaW + self.DeltaBias) # (batch, seq, embed_dim)\n",
    "\n",
    "        Delta_repeated = einops.repeat(Delta, 'batch seq embed_dim -> batch seq embed_dim latent_dim', latent_dim = self.latent_dim)\n",
    "\n",
    "        A_repeated = einops.repeat(A, 'embed_dim latent_dim -> batch seq embed_dim latent_dim', batch = x.size(0), seq = seq_len) # (batch, seq, embed_dim, latent_dim)\n",
    "        B_repeated = einops.repeat(B, 'batch seq latent_dim -> batch seq embed_dim latent_dim', embed_dim = self.embed_dim) # (batch, seq, embed_dim, latent_dim)\n",
    "\n",
    "        A_bar = A_repeated * Delta_repeated # (batch, seq, embed_dim, latent_dim)\n",
    "        B_bar = B_repeated * Delta_repeated # (batch, seq, embed_dim, latent_dim)\n",
    "\n",
    "        x_by_token = einops.rearrange(x, 'batch seq embed_dim -> seq batch embed_dim')\n",
    "        A_bar_by_token = einops.rearrange(A_bar, 'batch seq embed_dim latent_dim -> seq batch embed_dim latent_dim')\n",
    "        B_bar_by_token = einops.rearrange(B_bar, 'batch seq embed_dim latent_dim -> seq batch embed_dim latent_dim')\n",
    "        C_by_token = einops.rearrange(C, 'batch seq latent_dim -> seq batch latent_dim')\n",
    "\n",
    "        hs = [torch.zeros(batch_size, self.embed_dim, self.latent_dim, device = x.device)]\n",
    "        ys = []\n",
    "\n",
    "        for i in range(seq_len):\n",
    "            token = x_by_token[i]\n",
    "            A_bar_t = A_bar_by_token[i]\n",
    "            B_bar_t = B_bar_by_token[i]\n",
    "            C_t = C_by_token[i]\n",
    "\n",
    "            reshaped_token = einops.repeat(token, 'batch embed_dim -> batch embed_dim latent_dim', latent_dim = 1)\n",
    "            \n",
    "            # print(\"Sizes: \", B_bar_t.size(), token.size())\n",
    "            # print((B_bar_t * reshaped_token).shape)\n",
    "            h = A_bar_t * hs[-1] + B_bar_t * reshaped_token # (batch, embed_dim, latent_dim)\n",
    "            y = einops.einsum(C_t, h, 'batch latent_dim, batch embed_dim latent_dim -> batch embed_dim')\n",
    "\n",
    "            hs.append(h)\n",
    "            ys.append(y)\n",
    "\n",
    "        ys = torch.stack(ys, dim = 0) # (seq, batch, embed_dim)\n",
    "        y = einops.rearrange(ys, 'seq batch embed_dim -> batch seq embed_dim')\n",
    "        y += x * self.WD # skip connection\n",
    "        return y"
   ]
  },
  {
   "cell_type": "code",
   "execution_count": 133,
   "metadata": {},
   "outputs": [
    {
     "name": "stdout",
     "output_type": "stream",
     "text": [
      "torch.Size([2, 3, 4])\n",
      "torch.Size([2, 3, 4])\n"
     ]
    }
   ],
   "source": [
    "# test the S6Block\n",
    "\n",
    "testX = torch.randn(2, 3, 4)\n",
    "print(testX.shape)\n",
    "\n",
    "block = S6Block(4, 5, 2)\n",
    "print(block(testX).shape)\n"
   ]
  },
  {
   "cell_type": "code",
   "execution_count": 118,
   "metadata": {},
   "outputs": [],
   "source": [
    "class MambaBlock(nn.Module):\n",
    "    def __init__(self, outer_dim, embed_dim, latent_dim, d, kernel_size, dropout = 0.):\n",
    "        super().__init__()\n",
    "        self.project_1 = nn.Linear(outer_dim, embed_dim, bias=False)\n",
    "        self.project_2 = nn.Linear(outer_dim, embed_dim, bias=False)\n",
    "        self.project_3 = nn.Linear(embed_dim, outer_dim, bias=False)\n",
    "\n",
    "        self.s6_block = S6Block(embed_dim, latent_dim, d, dropout = dropout)\n",
    "        self.conv = nn.Conv1d(embed_dim, embed_dim, bias=True, kernel_size = kernel_size, groups=embed_dim, padding = kernel_size - 1)\n",
    "        self.dropout = nn.Dropout(dropout)\n",
    "\n",
    "    def forward(self, x):\n",
    "        seq_len = x.size(1)\n",
    "\n",
    "        # print(\"Input: \", x.shape)\n",
    "        # print(\"Project 1: \", self.project_1(x).shape)\n",
    "        projx1 = self.project_1(x)\n",
    "        projx1 = self.dropout(projx1)\n",
    "        projx2 = self.project_2(x)\n",
    "        projx2 = self.dropout(projx2)\n",
    "        activ2 = F.silu(projx2)\n",
    "\n",
    "        rearranged_proj_x = einops.rearrange(projx1, 'batch seq embed_dim -> batch embed_dim seq')\n",
    "        convoluted_x = self.conv(rearranged_proj_x) # (batch, embed_dim, seq + 3), plus 3 to account for padding\n",
    "        convoluted_reshaped = convoluted_x[:, :, :seq_len]\n",
    "        convoluted_reshaped = einops.rearrange(convoluted_reshaped, 'batch embed_dim seq -> batch seq embed_dim')\n",
    "\n",
    "        # print(\"Conv: \", convoluted_reshaped.shape)\n",
    "\n",
    "        y = self.s6_block(F.silu(convoluted_reshaped))\n",
    "\n",
    "        prod = projx1 * activ2\n",
    "\n",
    "        res = self.project_3(self.dropout(y + prod))\n",
    "        res = self.dropout(res)\n",
    "        return res\n"
   ]
  },
  {
   "cell_type": "code",
   "execution_count": 134,
   "metadata": {},
   "outputs": [
    {
     "name": "stdout",
     "output_type": "stream",
     "text": [
      "torch.Size([2, 3, 3])\n",
      "torch.Size([2, 3, 3])\n"
     ]
    }
   ],
   "source": [
    "# test the MambaBlock\n",
    "\n",
    "outer_dim = 3\n",
    "\n",
    "testX = torch.randn(2, 3, outer_dim)\n",
    "print(testX.shape)\n",
    "\n",
    "block = MambaBlock(outer_dim, 4, 5, 2, 3)\n",
    "print(block(testX).shape)"
   ]
  },
  {
   "cell_type": "code",
   "execution_count": 129,
   "metadata": {},
   "outputs": [],
   "source": [
    "class Mamba(nn.Module):\n",
    "    def __init__(self, num_layers, outer_dim, embed_dim, latent_dim, d, kernel_size, dropout = 0.):\n",
    "        super().__init__()\n",
    "        self.blocks = nn.ModuleList([MambaBlock(outer_dim, embed_dim, latent_dim, d, kernel_size, dropout = dropout) for _ in range(num_layers)])\n",
    "\n",
    "    def forward(self, x):\n",
    "        for block in self.blocks:\n",
    "            x = block(x)\n",
    "        return x"
   ]
  },
  {
   "cell_type": "code",
   "execution_count": 132,
   "metadata": {},
   "outputs": [
    {
     "name": "stdout",
     "output_type": "stream",
     "text": [
      "torch.Size([2, 3, 6])\n",
      "torch.Size([2, 3, 6])\n"
     ]
    }
   ],
   "source": [
    "# test mamba\n",
    "params = {\n",
    "    'num_layers': 2,\n",
    "    'outer_dim': 6,\n",
    "    'embed_dim': 10,\n",
    "    'latent_dim': 5,\n",
    "    'd': 2,\n",
    "    'kernel_size': 3,\n",
    "    'dropout': 0.1\n",
    "}\n",
    "\n",
    "testX = torch.randn(2, 3, params['outer_dim'])\n",
    "print(testX.shape)\n",
    "\n",
    "mamba = Mamba(**params)\n",
    "print(mamba(testX).shape)\n"
   ]
  },
  {
   "cell_type": "code",
   "execution_count": null,
   "metadata": {},
   "outputs": [],
   "source": []
  },
  {
   "cell_type": "code",
   "execution_count": null,
   "metadata": {},
   "outputs": [],
   "source": []
  },
  {
   "cell_type": "code",
   "execution_count": null,
   "metadata": {},
   "outputs": [],
   "source": []
  }
 ],
 "metadata": {
  "kernelspec": {
   "display_name": "scratch",
   "language": "python",
   "name": "python3"
  },
  "language_info": {
   "codemirror_mode": {
    "name": "ipython",
    "version": 3
   },
   "file_extension": ".py",
   "mimetype": "text/x-python",
   "name": "python",
   "nbconvert_exporter": "python",
   "pygments_lexer": "ipython3",
   "version": "3.11.0"
  }
 },
 "nbformat": 4,
 "nbformat_minor": 2
}
